{
  "cells": [
    {
      "cell_type": "markdown",
      "metadata": {
        "id": "lRHwD2VeOoxa"
      },
      "source": [
        "# MODELO DEEP LEARNING"
      ]
    },
    {
      "cell_type": "markdown",
      "metadata": {},
      "source": [
        ">1: Importación de bibliotecas"
      ]
    },
    {
      "cell_type": "code",
      "execution_count": 1,
      "metadata": {},
      "outputs": [],
      "source": [
        "# Importar bibliotecas necesarias\n",
        "import pandas as pd\n",
        "from sklearn.model_selection import train_test_split\n",
        "from sklearn.preprocessing import StandardScaler, LabelEncoder\n",
        "from sklearn.metrics import accuracy_score\n",
        "from sklearn.utils import shuffle\n",
        "import tensorflow as tf\n",
        "from tensorflow.keras.models import Sequential\n",
        "from tensorflow.keras.layers import Dense"
      ]
    },
    {
      "cell_type": "markdown",
      "metadata": {},
      "source": [
        ">2: Cargar y barajar el conjunto de datos"
      ]
    },
    {
      "cell_type": "code",
      "execution_count": 2,
      "metadata": {},
      "outputs": [],
      "source": [
        "# Cargar el conjunto de datos\n",
        "df = pd.read_csv('dataset_procesado.csv')\n",
        "\n",
        "# Barajar el conjunto de datos\n",
        "df = shuffle(df, random_state=42)"
      ]
    },
    {
      "cell_type": "markdown",
      "metadata": {},
      "source": [
        ">3: Preprocesamiento de datos"
      ]
    },
    {
      "cell_type": "code",
      "execution_count": 3,
      "metadata": {},
      "outputs": [],
      "source": [
        "# Dividir el conjunto de datos en características (X) y etiquetas (y)\n",
        "X = df.drop('income', axis=1)\n",
        "y = df['income']\n",
        "\n",
        "# Codificar las etiquetas ('<=50K' y '>50K') a valores numéricos\n",
        "label_encoder = LabelEncoder()\n",
        "y = label_encoder.fit_transform(y)\n",
        "\n",
        "# Dividir el conjunto de datos en entrenamiento y prueba\n",
        "X_train, X_test, y_train, y_test = train_test_split(X, y, test_size=0.2, random_state=42)\n",
        "\n",
        "# Escalar las características\n",
        "scaler = StandardScaler()\n",
        "X_train_scaled = scaler.fit_transform(X_train)\n",
        "X_test_scaled = scaler.transform(X_test)"
      ]
    },
    {
      "cell_type": "markdown",
      "metadata": {},
      "source": [
        ">4: Crear el modelo de red neuronal"
      ]
    },
    {
      "cell_type": "code",
      "execution_count": 4,
      "metadata": {},
      "outputs": [],
      "source": [
        "# Crear el modelo de red neuronal\n",
        "model = Sequential()\n",
        "model.add(Dense(64, input_dim=X_train_scaled.shape[1], activation='relu'))\n",
        "model.add(Dense(32, activation='relu'))\n",
        "model.add(Dense(1, activation='sigmoid'))"
      ]
    },
    {
      "cell_type": "markdown",
      "metadata": {},
      "source": [
        ">5: Compilar el modelo"
      ]
    },
    {
      "cell_type": "code",
      "execution_count": 5,
      "metadata": {},
      "outputs": [],
      "source": [
        "# Compilar el modelo\n",
        "model.compile(optimizer='adam', loss='binary_crossentropy', metrics=['accuracy'])"
      ]
    },
    {
      "cell_type": "markdown",
      "metadata": {},
      "source": [
        ">6: Entrenar el modelo"
      ]
    },
    {
      "cell_type": "code",
      "execution_count": 6,
      "metadata": {},
      "outputs": [
        {
          "name": "stdout",
          "output_type": "stream",
          "text": [
            "Epoch 1/10\n",
            "651/651 [==============================] - 6s 6ms/step - loss: 0.3496 - accuracy: 0.8398 - val_loss: 0.3329 - val_accuracy: 0.8434\n",
            "Epoch 2/10\n",
            "651/651 [==============================] - 4s 6ms/step - loss: 0.3105 - accuracy: 0.8540 - val_loss: 0.3317 - val_accuracy: 0.8490\n",
            "Epoch 3/10\n",
            "651/651 [==============================] - 4s 5ms/step - loss: 0.3019 - accuracy: 0.8603 - val_loss: 0.3325 - val_accuracy: 0.8509\n",
            "Epoch 4/10\n",
            "651/651 [==============================] - 4s 6ms/step - loss: 0.2967 - accuracy: 0.8623 - val_loss: 0.3361 - val_accuracy: 0.8486\n",
            "Epoch 5/10\n",
            "651/651 [==============================] - 4s 6ms/step - loss: 0.2932 - accuracy: 0.8643 - val_loss: 0.3321 - val_accuracy: 0.8496\n",
            "Epoch 6/10\n",
            "651/651 [==============================] - 4s 6ms/step - loss: 0.2888 - accuracy: 0.8666 - val_loss: 0.3320 - val_accuracy: 0.8523\n",
            "Epoch 7/10\n",
            "651/651 [==============================] - 4s 6ms/step - loss: 0.2859 - accuracy: 0.8668 - val_loss: 0.3342 - val_accuracy: 0.8507\n",
            "Epoch 8/10\n",
            "651/651 [==============================] - 4s 6ms/step - loss: 0.2817 - accuracy: 0.8691 - val_loss: 0.3376 - val_accuracy: 0.8494\n",
            "Epoch 9/10\n",
            "651/651 [==============================] - 4s 6ms/step - loss: 0.2782 - accuracy: 0.8721 - val_loss: 0.3361 - val_accuracy: 0.8500\n",
            "Epoch 10/10\n",
            "651/651 [==============================] - 5s 8ms/step - loss: 0.2767 - accuracy: 0.8713 - val_loss: 0.3428 - val_accuracy: 0.8471\n"
          ]
        },
        {
          "data": {
            "text/plain": [
              "<keras.src.callbacks.History at 0x293b26e3340>"
            ]
          },
          "execution_count": 6,
          "metadata": {},
          "output_type": "execute_result"
        }
      ],
      "source": [
        "# Entrenar el modelo\n",
        "model.fit(X_train_scaled, y_train, epochs=10, batch_size=32, validation_split=0.2)"
      ]
    },
    {
      "cell_type": "markdown",
      "metadata": {},
      "source": [
        ">7: Evaluar el modelo en el conjunto de prueba"
      ]
    },
    {
      "cell_type": "code",
      "execution_count": 7,
      "metadata": {},
      "outputs": [
        {
          "name": "stdout",
          "output_type": "stream",
          "text": [
            "204/204 [==============================] - 1s 4ms/step\n",
            "Accuracy on test set: 0.8523355869698832\n"
          ]
        }
      ],
      "source": [
        "# Evaluar el modelo en el conjunto de prueba\n",
        "y_pred_probs = model.predict(X_test_scaled)\n",
        "y_pred = (y_pred_probs > 0.5).astype(int)  # Redondear las probabilidades a 0 o 1\n",
        "\n",
        "accuracy = accuracy_score(y_test, y_pred)\n",
        "print(f'Accuracy on test set: {accuracy}')"
      ]
    },
    {
      "cell_type": "markdown",
      "metadata": {},
      "source": [
        ">8: Guardar y cargar el modelo"
      ]
    },
    {
      "cell_type": "code",
      "execution_count": 11,
      "metadata": {},
      "outputs": [],
      "source": [
        "# Guardar el modelo\n",
        "model.save('my_model.h5')"
      ]
    },
    {
      "cell_type": "markdown",
      "metadata": {
        "id": "W3oPXLuXDrDR"
      },
      "source": [
        "# AJUSTE DE HIPERPARAMETROS con OPTUNA"
      ]
    },
    {
      "cell_type": "code",
      "execution_count": 28,
      "metadata": {},
      "outputs": [
        {
          "name": "stderr",
          "output_type": "stream",
          "text": [
            "c:\\Users\\Terán\\Documents\\finalProject\\venv\\lib\\site-packages\\tqdm\\auto.py:21: TqdmWarning: IProgress not found. Please update jupyter and ipywidgets. See https://ipywidgets.readthedocs.io/en/stable/user_install.html\n",
            "  from .autonotebook import tqdm as notebook_tqdm\n",
            "[I 2024-01-23 21:50:34,900] A new study created in memory with name: no-name-08a896ef-8fb6-47a3-a6ba-8f45921cee8d\n"
          ]
        },
        {
          "name": "stdout",
          "output_type": "stream",
          "text": [
            "204/204 [==============================] - 1s 2ms/step\n"
          ]
        },
        {
          "name": "stderr",
          "output_type": "stream",
          "text": [
            "[I 2024-01-23 21:50:46,932] Trial 0 finished with value: 0.8589428395820529 and parameters: {'units_layer1': 69, 'units_layer2': 22, 'learning_rate': 0.008235440331758503}. Best is trial 0 with value: 0.8589428395820529.\n"
          ]
        },
        {
          "name": "stdout",
          "output_type": "stream",
          "text": [
            "204/204 [==============================] - 1s 3ms/step\n"
          ]
        },
        {
          "name": "stderr",
          "output_type": "stream",
          "text": [
            "[I 2024-01-23 21:51:04,259] Trial 1 finished with value: 0.858020897357099 and parameters: {'units_layer1': 41, 'units_layer2': 21, 'learning_rate': 0.004767352622445229}. Best is trial 0 with value: 0.8589428395820529.\n"
          ]
        },
        {
          "name": "stdout",
          "output_type": "stream",
          "text": [
            "204/204 [==============================] - 1s 5ms/step\n"
          ]
        },
        {
          "name": "stderr",
          "output_type": "stream",
          "text": [
            "[I 2024-01-23 21:51:22,273] Trial 2 finished with value: 0.8561770129071912 and parameters: {'units_layer1': 113, 'units_layer2': 18, 'learning_rate': 0.0050007723430312324}. Best is trial 0 with value: 0.8589428395820529.\n"
          ]
        },
        {
          "name": "stdout",
          "output_type": "stream",
          "text": [
            "204/204 [==============================] - 1s 6ms/step\n"
          ]
        },
        {
          "name": "stderr",
          "output_type": "stream",
          "text": [
            "[I 2024-01-23 21:51:44,553] Trial 3 finished with value: 0.8592501536570375 and parameters: {'units_layer1': 73, 'units_layer2': 52, 'learning_rate': 0.0043909237174682625}. Best is trial 3 with value: 0.8592501536570375.\n"
          ]
        },
        {
          "name": "stdout",
          "output_type": "stream",
          "text": [
            "204/204 [==============================] - 1s 2ms/step\n"
          ]
        },
        {
          "name": "stderr",
          "output_type": "stream",
          "text": [
            "[I 2024-01-23 21:51:59,799] Trial 4 finished with value: 0.854179471419791 and parameters: {'units_layer1': 52, 'units_layer2': 20, 'learning_rate': 0.004354756066867156}. Best is trial 3 with value: 0.8592501536570375.\n"
          ]
        },
        {
          "name": "stdout",
          "output_type": "stream",
          "text": [
            "204/204 [==============================] - 1s 3ms/step\n"
          ]
        },
        {
          "name": "stderr",
          "output_type": "stream",
          "text": [
            "[I 2024-01-23 21:52:14,099] Trial 5 finished with value: 0.8551014136447449 and parameters: {'units_layer1': 69, 'units_layer2': 39, 'learning_rate': 0.0047579379152161115}. Best is trial 3 with value: 0.8592501536570375.\n"
          ]
        },
        {
          "name": "stdout",
          "output_type": "stream",
          "text": [
            "204/204 [==============================] - 1s 3ms/step\n"
          ]
        },
        {
          "name": "stderr",
          "output_type": "stream",
          "text": [
            "[I 2024-01-23 21:52:30,713] Trial 6 finished with value: 0.8564843269821758 and parameters: {'units_layer1': 100, 'units_layer2': 63, 'learning_rate': 0.007728618415955917}. Best is trial 3 with value: 0.8592501536570375.\n"
          ]
        },
        {
          "name": "stdout",
          "output_type": "stream",
          "text": [
            "204/204 [==============================] - 1s 2ms/step\n"
          ]
        },
        {
          "name": "stderr",
          "output_type": "stream",
          "text": [
            "[I 2024-01-23 21:52:44,932] Trial 7 finished with value: 0.8560233558696988 and parameters: {'units_layer1': 72, 'units_layer2': 59, 'learning_rate': 0.0049956342895404035}. Best is trial 3 with value: 0.8592501536570375.\n"
          ]
        },
        {
          "name": "stdout",
          "output_type": "stream",
          "text": [
            "204/204 [==============================] - 1s 3ms/step\n"
          ]
        },
        {
          "name": "stderr",
          "output_type": "stream",
          "text": [
            "[I 2024-01-23 21:52:58,410] Trial 8 finished with value: 0.8578672403196066 and parameters: {'units_layer1': 43, 'units_layer2': 37, 'learning_rate': 0.000892961653289581}. Best is trial 3 with value: 0.8592501536570375.\n"
          ]
        },
        {
          "name": "stdout",
          "output_type": "stream",
          "text": [
            "204/204 [==============================] - 1s 3ms/step\n"
          ]
        },
        {
          "name": "stderr",
          "output_type": "stream",
          "text": [
            "[I 2024-01-23 21:53:11,961] Trial 9 finished with value: 0.8518746158574063 and parameters: {'units_layer1': 47, 'units_layer2': 33, 'learning_rate': 0.002950207360613199}. Best is trial 3 with value: 0.8592501536570375.\n"
          ]
        },
        {
          "name": "stdout",
          "output_type": "stream",
          "text": [
            "204/204 [==============================] - 1s 3ms/step\n"
          ]
        },
        {
          "name": "stderr",
          "output_type": "stream",
          "text": [
            "[I 2024-01-23 21:53:26,948] Trial 10 finished with value: 0.8537185003073141 and parameters: {'units_layer1': 128, 'units_layer2': 51, 'learning_rate': 0.009794948987964899}. Best is trial 3 with value: 0.8592501536570375.\n"
          ]
        },
        {
          "name": "stdout",
          "output_type": "stream",
          "text": [
            "204/204 [==============================] - 1s 3ms/step\n"
          ]
        },
        {
          "name": "stderr",
          "output_type": "stream",
          "text": [
            "[I 2024-01-23 21:53:40,386] Trial 11 finished with value: 0.8523355869698832 and parameters: {'units_layer1': 88, 'units_layer2': 48, 'learning_rate': 0.007734505953440602}. Best is trial 3 with value: 0.8592501536570375.\n"
          ]
        },
        {
          "name": "stdout",
          "output_type": "stream",
          "text": [
            "204/204 [==============================] - 2s 7ms/step\n"
          ]
        },
        {
          "name": "stderr",
          "output_type": "stream",
          "text": [
            "[I 2024-01-23 21:54:00,793] Trial 12 finished with value: 0.8547940995697603 and parameters: {'units_layer1': 63, 'units_layer2': 49, 'learning_rate': 0.007242303217530884}. Best is trial 3 with value: 0.8592501536570375.\n"
          ]
        },
        {
          "name": "stdout",
          "output_type": "stream",
          "text": [
            "204/204 [==============================] - 1s 5ms/step\n"
          ]
        },
        {
          "name": "stderr",
          "output_type": "stream",
          "text": [
            "[I 2024-01-23 21:54:19,005] Trial 13 finished with value: 0.8554087277197295 and parameters: {'units_layer1': 85, 'units_layer2': 30, 'learning_rate': 0.002381230790769652}. Best is trial 3 with value: 0.8592501536570375.\n"
          ]
        },
        {
          "name": "stdout",
          "output_type": "stream",
          "text": [
            "204/204 [==============================] - 1s 3ms/step\n"
          ]
        },
        {
          "name": "stderr",
          "output_type": "stream",
          "text": [
            "[I 2024-01-23 21:54:32,362] Trial 14 finished with value: 0.8531038721573448 and parameters: {'units_layer1': 60, 'units_layer2': 56, 'learning_rate': 0.009662879939273747}. Best is trial 3 with value: 0.8592501536570375.\n"
          ]
        },
        {
          "name": "stdout",
          "output_type": "stream",
          "text": [
            "204/204 [==============================] - 1s 2ms/step\n"
          ]
        },
        {
          "name": "stderr",
          "output_type": "stream",
          "text": [
            "[I 2024-01-23 21:54:45,849] Trial 15 finished with value: 0.8549477566072526 and parameters: {'units_layer1': 95, 'units_layer2': 26, 'learning_rate': 0.006692420794328468}. Best is trial 3 with value: 0.8592501536570375.\n"
          ]
        },
        {
          "name": "stdout",
          "output_type": "stream",
          "text": [
            "204/204 [==============================] - 1s 3ms/step\n"
          ]
        },
        {
          "name": "stderr",
          "output_type": "stream",
          "text": [
            "[I 2024-01-23 21:54:59,211] Trial 16 finished with value: 0.8574062692071297 and parameters: {'units_layer1': 77, 'units_layer2': 44, 'learning_rate': 0.0062694401167889165}. Best is trial 3 with value: 0.8592501536570375.\n"
          ]
        },
        {
          "name": "stdout",
          "output_type": "stream",
          "text": [
            "204/204 [==============================] - 1s 3ms/step\n"
          ]
        },
        {
          "name": "stderr",
          "output_type": "stream",
          "text": [
            "[I 2024-01-23 21:55:12,550] Trial 17 finished with value: 0.8523355869698832 and parameters: {'units_layer1': 58, 'units_layer2': 43, 'learning_rate': 0.0032224092184015324}. Best is trial 3 with value: 0.8592501536570375.\n"
          ]
        },
        {
          "name": "stdout",
          "output_type": "stream",
          "text": [
            "204/204 [==============================] - 1s 5ms/step\n"
          ]
        },
        {
          "name": "stderr",
          "output_type": "stream",
          "text": [
            "[I 2024-01-23 21:55:28,359] Trial 18 finished with value: 0.8349723417332514 and parameters: {'units_layer1': 34, 'units_layer2': 26, 'learning_rate': 4.377555550453931e-05}. Best is trial 3 with value: 0.8592501536570375.\n"
          ]
        },
        {
          "name": "stdout",
          "output_type": "stream",
          "text": [
            "204/204 [==============================] - 1s 3ms/step\n"
          ]
        },
        {
          "name": "stderr",
          "output_type": "stream",
          "text": [
            "[I 2024-01-23 21:55:45,782] Trial 19 finished with value: 0.8475722188076213 and parameters: {'units_layer1': 98, 'units_layer2': 53, 'learning_rate': 0.00836263626519489}. Best is trial 3 with value: 0.8592501536570375.\n"
          ]
        },
        {
          "name": "stdout",
          "output_type": "stream",
          "text": [
            "204/204 [==============================] - 1s 3ms/step\n"
          ]
        },
        {
          "name": "stderr",
          "output_type": "stream",
          "text": [
            "[I 2024-01-23 21:56:05,130] Trial 20 finished with value: 0.8534111862323295 and parameters: {'units_layer1': 79, 'units_layer2': 16, 'learning_rate': 0.005966902923242659}. Best is trial 3 with value: 0.8592501536570375.\n"
          ]
        },
        {
          "name": "stdout",
          "output_type": "stream",
          "text": [
            "204/204 [==============================] - 1s 3ms/step\n"
          ]
        },
        {
          "name": "stderr",
          "output_type": "stream",
          "text": [
            "[I 2024-01-23 21:56:20,611] Trial 21 finished with value: 0.8557160417947142 and parameters: {'units_layer1': 34, 'units_layer2': 23, 'learning_rate': 0.0038637163253356695}. Best is trial 3 with value: 0.8592501536570375.\n"
          ]
        },
        {
          "name": "stdout",
          "output_type": "stream",
          "text": [
            "204/204 [==============================] - 1s 2ms/step\n"
          ]
        },
        {
          "name": "stderr",
          "output_type": "stream",
          "text": [
            "[I 2024-01-23 21:56:34,254] Trial 22 finished with value: 0.851259987707437 and parameters: {'units_layer1': 68, 'units_layer2': 31, 'learning_rate': 0.00584639486924637}. Best is trial 3 with value: 0.8592501536570375.\n"
          ]
        },
        {
          "name": "stdout",
          "output_type": "stream",
          "text": [
            "204/204 [==============================] - 1s 3ms/step\n"
          ]
        },
        {
          "name": "stderr",
          "output_type": "stream",
          "text": [
            "[I 2024-01-23 21:56:47,390] Trial 23 finished with value: 0.8566379840196681 and parameters: {'units_layer1': 52, 'units_layer2': 35, 'learning_rate': 0.001879016056759701}. Best is trial 3 with value: 0.8592501536570375.\n"
          ]
        },
        {
          "name": "stdout",
          "output_type": "stream",
          "text": [
            "204/204 [==============================] - 1s 3ms/step\n"
          ]
        },
        {
          "name": "stderr",
          "output_type": "stream",
          "text": [
            "[I 2024-01-23 21:57:02,828] Trial 24 finished with value: 0.8549477566072526 and parameters: {'units_layer1': 43, 'units_layer2': 22, 'learning_rate': 0.0036141699225569848}. Best is trial 3 with value: 0.8592501536570375.\n"
          ]
        },
        {
          "name": "stdout",
          "output_type": "stream",
          "text": [
            "204/204 [==============================] - 1s 2ms/step\n"
          ]
        },
        {
          "name": "stderr",
          "output_type": "stream",
          "text": [
            "[I 2024-01-23 21:57:16,459] Trial 25 finished with value: 0.8557160417947142 and parameters: {'units_layer1': 87, 'units_layer2': 27, 'learning_rate': 0.008863412959368957}. Best is trial 3 with value: 0.8592501536570375.\n"
          ]
        },
        {
          "name": "stdout",
          "output_type": "stream",
          "text": [
            "204/204 [==============================] - 1s 4ms/step\n"
          ]
        },
        {
          "name": "stderr",
          "output_type": "stream",
          "text": [
            "[I 2024-01-23 21:57:32,679] Trial 26 finished with value: 0.8529502151198525 and parameters: {'units_layer1': 105, 'units_layer2': 42, 'learning_rate': 0.005575431783872839}. Best is trial 3 with value: 0.8592501536570375.\n"
          ]
        },
        {
          "name": "stdout",
          "output_type": "stream",
          "text": [
            "204/204 [==============================] - 1s 4ms/step\n"
          ]
        },
        {
          "name": "stderr",
          "output_type": "stream",
          "text": [
            "[I 2024-01-23 21:57:52,382] Trial 27 finished with value: 0.8540258143822987 and parameters: {'units_layer1': 75, 'units_layer2': 16, 'learning_rate': 0.004171449004579922}. Best is trial 3 with value: 0.8592501536570375.\n"
          ]
        },
        {
          "name": "stdout",
          "output_type": "stream",
          "text": [
            "204/204 [==============================] - 1s 2ms/step\n"
          ]
        },
        {
          "name": "stderr",
          "output_type": "stream",
          "text": [
            "[I 2024-01-23 21:58:07,801] Trial 28 finished with value: 0.8526429010448678 and parameters: {'units_layer1': 63, 'units_layer2': 46, 'learning_rate': 0.0020545205352142516}. Best is trial 3 with value: 0.8592501536570375.\n"
          ]
        },
        {
          "name": "stdout",
          "output_type": "stream",
          "text": [
            "204/204 [==============================] - 1s 3ms/step\n"
          ]
        },
        {
          "name": "stderr",
          "output_type": "stream",
          "text": [
            "[I 2024-01-23 21:58:21,958] Trial 29 finished with value: 0.8560233558696988 and parameters: {'units_layer1': 118, 'units_layer2': 20, 'learning_rate': 0.0052287847983563465}. Best is trial 3 with value: 0.8592501536570375.\n"
          ]
        },
        {
          "name": "stdout",
          "output_type": "stream",
          "text": [
            "204/204 [==============================] - 1s 2ms/step\n"
          ]
        },
        {
          "name": "stderr",
          "output_type": "stream",
          "text": [
            "[I 2024-01-23 21:58:35,775] Trial 30 finished with value: 0.8578672403196066 and parameters: {'units_layer1': 55, 'units_layer2': 64, 'learning_rate': 0.006636118644619143}. Best is trial 3 with value: 0.8592501536570375.\n"
          ]
        },
        {
          "name": "stdout",
          "output_type": "stream",
          "text": [
            "204/204 [==============================] - 1s 2ms/step\n"
          ]
        },
        {
          "name": "stderr",
          "output_type": "stream",
          "text": [
            "[I 2024-01-23 21:58:48,226] Trial 31 finished with value: 0.8564843269821758 and parameters: {'units_layer1': 42, 'units_layer2': 36, 'learning_rate': 0.00030742304778206154}. Best is trial 3 with value: 0.8592501536570375.\n"
          ]
        },
        {
          "name": "stdout",
          "output_type": "stream",
          "text": [
            "204/204 [==============================] - 1s 2ms/step\n"
          ]
        },
        {
          "name": "stderr",
          "output_type": "stream",
          "text": [
            "[I 2024-01-23 21:59:01,176] Trial 32 finished with value: 0.8552550706822373 and parameters: {'units_layer1': 38, 'units_layer2': 38, 'learning_rate': 0.0012699191005745947}. Best is trial 3 with value: 0.8592501536570375.\n"
          ]
        },
        {
          "name": "stdout",
          "output_type": "stream",
          "text": [
            "204/204 [==============================] - 1s 2ms/step\n"
          ]
        },
        {
          "name": "stderr",
          "output_type": "stream",
          "text": [
            "[I 2024-01-23 21:59:14,923] Trial 33 finished with value: 0.8563306699446834 and parameters: {'units_layer1': 48, 'units_layer2': 23, 'learning_rate': 0.001023325361590199}. Best is trial 3 with value: 0.8592501536570375.\n"
          ]
        },
        {
          "name": "stdout",
          "output_type": "stream",
          "text": [
            "204/204 [==============================] - 1s 2ms/step\n"
          ]
        },
        {
          "name": "stderr",
          "output_type": "stream",
          "text": [
            "[I 2024-01-23 21:59:28,204] Trial 34 finished with value: 0.8543331284572834 and parameters: {'units_layer1': 45, 'units_layer2': 19, 'learning_rate': 0.004577352682241331}. Best is trial 3 with value: 0.8592501536570375.\n"
          ]
        },
        {
          "name": "stdout",
          "output_type": "stream",
          "text": [
            "204/204 [==============================] - 1s 2ms/step\n"
          ]
        },
        {
          "name": "stderr",
          "output_type": "stream",
          "text": [
            "[I 2024-01-23 21:59:41,635] Trial 35 finished with value: 0.8544867854947756 and parameters: {'units_layer1': 68, 'units_layer2': 29, 'learning_rate': 0.002556323303569209}. Best is trial 3 with value: 0.8592501536570375.\n"
          ]
        },
        {
          "name": "stdout",
          "output_type": "stream",
          "text": [
            "204/204 [==============================] - 1s 2ms/step\n"
          ]
        },
        {
          "name": "stderr",
          "output_type": "stream",
          "text": [
            "[I 2024-01-23 21:59:54,671] Trial 36 finished with value: 0.8552550706822373 and parameters: {'units_layer1': 52, 'units_layer2': 40, 'learning_rate': 0.005116808479102531}. Best is trial 3 with value: 0.8592501536570375.\n"
          ]
        },
        {
          "name": "stdout",
          "output_type": "stream",
          "text": [
            "204/204 [==============================] - 1s 3ms/step\n"
          ]
        },
        {
          "name": "stderr",
          "output_type": "stream",
          "text": [
            "[I 2024-01-23 22:00:09,826] Trial 37 finished with value: 0.8574062692071297 and parameters: {'units_layer1': 83, 'units_layer2': 58, 'learning_rate': 0.0033483681869825427}. Best is trial 3 with value: 0.8592501536570375.\n"
          ]
        },
        {
          "name": "stdout",
          "output_type": "stream",
          "text": [
            "204/204 [==============================] - 1s 3ms/step\n"
          ]
        },
        {
          "name": "stderr",
          "output_type": "stream",
          "text": [
            "[I 2024-01-23 22:00:22,940] Trial 38 finished with value: 0.8520282728948986 and parameters: {'units_layer1': 39, 'units_layer2': 61, 'learning_rate': 0.004164571218028024}. Best is trial 3 with value: 0.8592501536570375.\n"
          ]
        },
        {
          "name": "stdout",
          "output_type": "stream",
          "text": [
            "204/204 [==============================] - 1s 3ms/step\n"
          ]
        },
        {
          "name": "stderr",
          "output_type": "stream",
          "text": [
            "[I 2024-01-23 22:00:37,236] Trial 39 finished with value: 0.8520282728948986 and parameters: {'units_layer1': 92, 'units_layer2': 54, 'learning_rate': 0.007804434719471566}. Best is trial 3 with value: 0.8592501536570375.\n"
          ]
        },
        {
          "name": "stdout",
          "output_type": "stream",
          "text": [
            "204/204 [==============================] - 1s 2ms/step\n"
          ]
        },
        {
          "name": "stderr",
          "output_type": "stream",
          "text": [
            "[I 2024-01-23 22:00:50,573] Trial 40 finished with value: 0.8547940995697603 and parameters: {'units_layer1': 72, 'units_layer2': 33, 'learning_rate': 0.009237093023249005}. Best is trial 3 with value: 0.8592501536570375.\n"
          ]
        },
        {
          "name": "stdout",
          "output_type": "stream",
          "text": [
            "204/204 [==============================] - 1s 6ms/step\n"
          ]
        },
        {
          "name": "stderr",
          "output_type": "stream",
          "text": [
            "[I 2024-01-23 22:01:14,219] Trial 41 finished with value: 0.8569452980946527 and parameters: {'units_layer1': 56, 'units_layer2': 61, 'learning_rate': 0.00647281708482203}. Best is trial 3 with value: 0.8592501536570375.\n"
          ]
        },
        {
          "name": "stdout",
          "output_type": "stream",
          "text": [
            "204/204 [==============================] - 1s 3ms/step\n"
          ]
        },
        {
          "name": "stderr",
          "output_type": "stream",
          "text": [
            "[I 2024-01-23 22:01:28,777] Trial 42 finished with value: 0.8563306699446834 and parameters: {'units_layer1': 54, 'units_layer2': 50, 'learning_rate': 0.00701082010199358}. Best is trial 3 with value: 0.8592501536570375.\n"
          ]
        },
        {
          "name": "stdout",
          "output_type": "stream",
          "text": [
            "204/204 [==============================] - 1s 3ms/step\n"
          ]
        },
        {
          "name": "stderr",
          "output_type": "stream",
          "text": [
            "[I 2024-01-23 22:01:43,580] Trial 43 finished with value: 0.854640442532268 and parameters: {'units_layer1': 64, 'units_layer2': 46, 'learning_rate': 0.008407838932635782}. Best is trial 3 with value: 0.8592501536570375.\n"
          ]
        },
        {
          "name": "stdout",
          "output_type": "stream",
          "text": [
            "204/204 [==============================] - 1s 2ms/step\n"
          ]
        },
        {
          "name": "stderr",
          "output_type": "stream",
          "text": [
            "[I 2024-01-23 22:01:58,168] Trial 44 finished with value: 0.8564843269821758 and parameters: {'units_layer1': 48, 'units_layer2': 63, 'learning_rate': 0.007205780659685626}. Best is trial 3 with value: 0.8592501536570375.\n"
          ]
        },
        {
          "name": "stdout",
          "output_type": "stream",
          "text": [
            "204/204 [==============================] - 1s 3ms/step\n"
          ]
        },
        {
          "name": "stderr",
          "output_type": "stream",
          "text": [
            "[I 2024-01-23 22:02:11,499] Trial 45 finished with value: 0.8537185003073141 and parameters: {'units_layer1': 63, 'units_layer2': 57, 'learning_rate': 0.007788753312975962}. Best is trial 3 with value: 0.8592501536570375.\n"
          ]
        },
        {
          "name": "stdout",
          "output_type": "stream",
          "text": [
            "204/204 [==============================] - 1s 3ms/step\n"
          ]
        },
        {
          "name": "stderr",
          "output_type": "stream",
          "text": [
            "[I 2024-01-23 22:02:25,122] Trial 46 finished with value: 0.8537185003073141 and parameters: {'units_layer1': 58, 'units_layer2': 55, 'learning_rate': 0.004836317249033037}. Best is trial 3 with value: 0.8592501536570375.\n"
          ]
        },
        {
          "name": "stdout",
          "output_type": "stream",
          "text": [
            "204/204 [==============================] - 1s 3ms/step\n"
          ]
        },
        {
          "name": "stderr",
          "output_type": "stream",
          "text": [
            "[I 2024-01-23 22:02:39,021] Trial 47 finished with value: 0.8532575291948371 and parameters: {'units_layer1': 39, 'units_layer2': 53, 'learning_rate': 0.0067871360326895655}. Best is trial 3 with value: 0.8592501536570375.\n"
          ]
        },
        {
          "name": "stdout",
          "output_type": "stream",
          "text": [
            "204/204 [==============================] - 1s 3ms/step\n"
          ]
        },
        {
          "name": "stderr",
          "output_type": "stream",
          "text": [
            "[I 2024-01-23 22:02:52,447] Trial 48 finished with value: 0.8544867854947756 and parameters: {'units_layer1': 32, 'units_layer2': 60, 'learning_rate': 0.008459850981752118}. Best is trial 3 with value: 0.8592501536570375.\n"
          ]
        },
        {
          "name": "stdout",
          "output_type": "stream",
          "text": [
            "204/204 [==============================] - 1s 2ms/step\n"
          ]
        },
        {
          "name": "stderr",
          "output_type": "stream",
          "text": [
            "[I 2024-01-23 22:03:07,826] Trial 49 finished with value: 0.852181929932391 and parameters: {'units_layer1': 50, 'units_layer2': 64, 'learning_rate': 0.00996459857254542}. Best is trial 3 with value: 0.8592501536570375.\n"
          ]
        },
        {
          "name": "stdout",
          "output_type": "stream",
          "text": [
            "Best Hyperparameters: {'units_layer1': 73, 'units_layer2': 52, 'learning_rate': 0.0043909237174682625}\n",
            "Best Accuracy: 0.8592501536570375\n"
          ]
        }
      ],
      "source": [
        "import optuna\n",
        "\n",
        "def objective(trial):\n",
        "    # Parámetros a optimizar\n",
        "    units_layer1 = trial.suggest_int('units_layer1', 32, 128)\n",
        "    units_layer2 = trial.suggest_int('units_layer2', 16, 64)\n",
        "    learning_rate = trial.suggest_float('learning_rate', 1e-5, 1e-2)\n",
        "\n",
        "    # Crear el modelo de red neuronal con parámetros sugeridos por Optuna\n",
        "    model = Sequential()\n",
        "    model.add(Dense(units_layer1, input_dim=X_train_scaled.shape[1], activation='relu'))\n",
        "    model.add(Dense(units_layer2, activation='relu'))\n",
        "    model.add(Dense(1, activation='sigmoid'))\n",
        "\n",
        "    # Compilar el modelo con tasa de aprendizaje sugerida\n",
        "    optimizer = tf.keras.optimizers.Adam(learning_rate=learning_rate)\n",
        "    model.compile(optimizer=optimizer, loss='binary_crossentropy', metrics=['accuracy'])\n",
        "\n",
        "    # Entrenar el modelo\n",
        "    model.fit(X_train_scaled, y_train, epochs=5, batch_size=32, validation_split=0.2, verbose=0)\n",
        "\n",
        "    # Evaluar el modelo\n",
        "    y_pred_probs = model.predict(X_test_scaled)\n",
        "    y_pred = (y_pred_probs > 0.5).astype(int)\n",
        "    accuracy = accuracy_score(y_test, y_pred)\n",
        "\n",
        "    return accuracy\n",
        "\n",
        "# Crear un estudio de Optuna y realizar la optimización\n",
        "study = optuna.create_study(direction='maximize')\n",
        "study.optimize(objective, n_trials=50)\n",
        "\n",
        "# Obtener los mejores hiperparámetros\n",
        "best_params = study.best_params\n",
        "best_accuracy = study.best_value\n",
        "\n",
        "print(f'Best Hyperparameters: {best_params}')\n",
        "print(f'Best Accuracy: {best_accuracy}')"
      ]
    }
  ],
  "metadata": {
    "accelerator": "TPU",
    "colab": {
      "provenance": []
    },
    "kernelspec": {
      "display_name": "Python 3",
      "name": "python3"
    },
    "language_info": {
      "codemirror_mode": {
        "name": "ipython",
        "version": 3
      },
      "file_extension": ".py",
      "mimetype": "text/x-python",
      "name": "python",
      "nbconvert_exporter": "python",
      "pygments_lexer": "ipython3",
      "version": "3.8.10"
    }
  },
  "nbformat": 4,
  "nbformat_minor": 0
}
