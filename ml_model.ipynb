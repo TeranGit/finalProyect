{
 "cells": [
  {
   "cell_type": "markdown",
   "metadata": {},
   "source": [
    "# MODELO DE MACHINE LEARNING"
   ]
  },
  {
   "cell_type": "markdown",
   "metadata": {},
   "source": [
    "Se ha utilizado RandomForestClassifier como modelo de machine learning. Esta elección se basa en la flexibilidad y buen rendimiento de los bosques aleatorios en problemas de clasificación.\n",
    "\n",
    "Se han dividido los datos en conjuntos de entrenamiento y prueba para entrenar el modelo en un conjunto y evaluar su rendimiento en otro conjunto independiente.\n",
    "\n",
    "Se han evaluado el modelo utilizando métricas comunes como la precisión, la recuperación (recall) y la puntuación F1-score, así como la matriz de confusión."
   ]
  },
  {
   "cell_type": "code",
   "execution_count": 4,
   "metadata": {},
   "outputs": [],
   "source": [
    "# Importar bibliotecas necesarias\n",
    "import pandas as pd\n",
    "from sklearn.model_selection import train_test_split\n",
    "from sklearn.ensemble import RandomForestClassifier\n",
    "from sklearn.metrics import accuracy_score, classification_report, confusion_matrix"
   ]
  },
  {
   "cell_type": "code",
   "execution_count": 5,
   "metadata": {},
   "outputs": [
    {
     "name": "stdout",
     "output_type": "stream",
     "text": [
      "Accuracy: 0.8532575291948371\n",
      "\n",
      "Classification Report:\n",
      "               precision    recall  f1-score   support\n",
      "\n",
      "       <=50K       0.89      0.92      0.91      4988\n",
      "        >50K       0.71      0.63      0.67      1520\n",
      "\n",
      "    accuracy                           0.85      6508\n",
      "   macro avg       0.80      0.78      0.79      6508\n",
      "weighted avg       0.85      0.85      0.85      6508\n",
      "\n",
      "\n",
      "Confusion Matrix:\n",
      " [[4597  391]\n",
      " [ 564  956]]\n"
     ]
    }
   ],
   "source": [
    "# Cargar el conjunto de datos procesado\n",
    "file_path_processed = \"dataset_procesado.csv\"\n",
    "df_processed = pd.read_csv(file_path_processed)\n",
    "\n",
    "# Dividir el conjunto de datos en características (X) y variable objetivo (y)\n",
    "X = df_processed.drop(\"income\", axis=1)\n",
    "y = df_processed[\"income\"]\n",
    "\n",
    "# Dividir el conjunto de datos en conjuntos de entrenamiento y prueba\n",
    "X_train, X_test, y_train, y_test = train_test_split(X, y, test_size=0.2, random_state=42)\n",
    "\n",
    "# Crear y entrenar el modelo de Random Forest\n",
    "model = RandomForestClassifier(random_state=42)\n",
    "model.fit(X_train, y_train)\n",
    "\n",
    "# Realizar predicciones en el conjunto de prueba\n",
    "y_pred = model.predict(X_test)\n",
    "\n",
    "# Evaluar el rendimiento del modelo\n",
    "accuracy = accuracy_score(y_test, y_pred)\n",
    "classification_rep = classification_report(y_test, y_pred)\n",
    "conf_matrix = confusion_matrix(y_test, y_pred)\n",
    "\n",
    "# Mostrar resultados\n",
    "print(f\"Accuracy: {accuracy}\")\n",
    "print(\"\\nClassification Report:\\n\", classification_rep)\n",
    "print(\"\\nConfusion Matrix:\\n\", conf_matrix)"
   ]
  },
  {
   "cell_type": "markdown",
   "metadata": {},
   "source": [
    "### MEJORANDO EL MODELO"
   ]
  },
  {
   "cell_type": "code",
   "execution_count": 6,
   "metadata": {},
   "outputs": [
    {
     "name": "stdout",
     "output_type": "stream",
     "text": [
      "Mejores Hiperparámetros: {'max_depth': None, 'min_samples_leaf': 2, 'min_samples_split': 5, 'n_estimators': 200}\n"
     ]
    }
   ],
   "source": [
    "from sklearn.model_selection import GridSearchCV\n",
    "\n",
    "# Definir los parámetros a ajustar\n",
    "param_grid = {\n",
    "    'n_estimators': [50, 100, 200],\n",
    "    'max_depth': [None, 10, 20],\n",
    "    'min_samples_split': [2, 5, 10],\n",
    "    'min_samples_leaf': [1, 2, 4]\n",
    "}\n",
    "\n",
    "# Inicializar el modelo\n",
    "model = RandomForestClassifier(random_state=42)\n",
    "\n",
    "# Realizar búsqueda en cuadrícula\n",
    "grid_search = GridSearchCV(model, param_grid, cv=5, scoring='accuracy')\n",
    "grid_search.fit(X_train, y_train)\n",
    "\n",
    "# Imprimir los mejores hiperparámetros\n",
    "print(\"Mejores Hiperparámetros:\", grid_search.best_params_)\n",
    "\n",
    "# Obtener el mejor modelo\n",
    "best_model = grid_search.best_estimator_"
   ]
  },
  {
   "cell_type": "markdown",
   "metadata": {},
   "source": [
    "Una búsqueda en cuadrícula para encontrar los mejores hiperparámetros para el modelo de Random Forest. Los hiperparámetros óptimos son:\n",
    "\n",
    "max_depth: None\n",
    "min_samples_leaf: 2\n",
    "min_samples_split: 5\n",
    "n_estimators: 200\n",
    "Utilizar estos hiperparámetros para entrenar un nuevo modelo y evaluar su rendimiento."
   ]
  },
  {
   "cell_type": "code",
   "execution_count": 7,
   "metadata": {},
   "outputs": [
    {
     "name": "stdout",
     "output_type": "stream",
     "text": [
      "Accuracy del mejor modelo: 0.8660110633066994\n",
      "\n",
      "Classification Report del mejor modelo:\n",
      "               precision    recall  f1-score   support\n",
      "\n",
      "       <=50K       0.89      0.94      0.91      4988\n",
      "        >50K       0.76      0.63      0.69      1520\n",
      "\n",
      "    accuracy                           0.87      6508\n",
      "   macro avg       0.82      0.78      0.80      6508\n",
      "weighted avg       0.86      0.87      0.86      6508\n",
      "\n",
      "\n",
      "Confusion Matrix del mejor modelo:\n",
      " [[4682  306]\n",
      " [ 566  954]]\n"
     ]
    }
   ],
   "source": [
    "# Crear y entrenar el modelo de Random Forest con los mejores hiperparámetros\n",
    "best_model = RandomForestClassifier(\n",
    "    random_state=42,\n",
    "    max_depth=None,\n",
    "    min_samples_leaf=2,\n",
    "    min_samples_split=5,\n",
    "    n_estimators=200\n",
    ")\n",
    "\n",
    "best_model.fit(X_train, y_train)\n",
    "\n",
    "# Realizar predicciones en el conjunto de prueba\n",
    "y_pred_best = best_model.predict(X_test)\n",
    "\n",
    "# Evaluar el rendimiento del nuevo modelo\n",
    "accuracy_best = accuracy_score(y_test, y_pred_best)\n",
    "classification_rep_best = classification_report(y_test, y_pred_best)\n",
    "conf_matrix_best = confusion_matrix(y_test, y_pred_best)\n",
    "\n",
    "# Mostrar resultados del nuevo modelo\n",
    "print(f\"Accuracy del mejor modelo: {accuracy_best}\")\n",
    "print(\"\\nClassification Report del mejor modelo:\\n\", classification_rep_best)\n",
    "print(\"\\nConfusion Matrix del mejor modelo:\\n\", conf_matrix_best)"
   ]
  }
 ],
 "metadata": {
  "kernelspec": {
   "display_name": "venv",
   "language": "python",
   "name": "python3"
  },
  "language_info": {
   "codemirror_mode": {
    "name": "ipython",
    "version": 3
   },
   "file_extension": ".py",
   "mimetype": "text/x-python",
   "name": "python",
   "nbconvert_exporter": "python",
   "pygments_lexer": "ipython3",
   "version": "3.9.0"
  }
 },
 "nbformat": 4,
 "nbformat_minor": 2
}
